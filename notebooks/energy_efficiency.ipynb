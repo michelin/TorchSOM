{
 "cells": [
  {
   "cell_type": "markdown",
   "metadata": {},
   "source": [
    "# Libraries"
   ]
  },
  {
   "cell_type": "code",
   "execution_count": 1,
   "metadata": {},
   "outputs": [],
   "source": [
    "import warnings\n",
    "import numpy as np\n",
    "import pandas as pd\n",
    "import torch\n",
    "import matplotlib.pyplot as plt\n",
    "\n",
    "from torchsom.core import SOM\n",
    "from torchsom.visualization import SOMVisualizer, VisualizationConfig\n",
    "\n",
    "from sklearn.preprocessing import StandardScaler\n",
    "from sklearn.neural_network import MLPRegressor\n",
    "from sklearn.metrics import (\n",
    "    mean_absolute_error,\n",
    "    mean_squared_error,\n",
    "    root_mean_squared_error,\n",
    "    r2_score,\n",
    ")\n",
    "from sklearn.exceptions import ConvergenceWarning, DataConversionWarning\n",
    "\n",
    "warnings.filterwarnings(\"ignore\", category=ConvergenceWarning)\n",
    "warnings.filterwarnings(\"ignore\", category=DataConversionWarning)"
   ]
  },
  {
   "cell_type": "code",
   "execution_count": 2,
   "metadata": {},
   "outputs": [],
   "source": [
    "random_seed = 42\n",
    "torch.manual_seed(random_seed)\n",
    "device = torch.device(\"cuda\" if torch.cuda.is_available() else \"cpu\")"
   ]
  },
  {
   "cell_type": "markdown",
   "metadata": {},
   "source": [
    "# Preprocessing "
   ]
  },
  {
   "cell_type": "code",
   "execution_count": 3,
   "metadata": {},
   "outputs": [],
   "source": [
    "energy_df = pd.read_csv(\n",
    "    filepath_or_buffer=\"../data/energy_efficiency.csv\",\n",
    ")"
   ]
  },
  {
   "cell_type": "code",
   "execution_count": 4,
   "metadata": {},
   "outputs": [],
   "source": [
    "# energy_df_scaled = energy_df\n",
    "scaler = StandardScaler()\n",
    "energy_df_scaled = pd.DataFrame(scaler.fit_transform(energy_df), columns=energy_df.columns)"
   ]
  },
  {
   "cell_type": "code",
   "execution_count": 5,
   "metadata": {},
   "outputs": [
    {
     "data": {
      "text/html": [
       "<div>\n",
       "<style scoped>\n",
       "    .dataframe tbody tr th:only-of-type {\n",
       "        vertical-align: middle;\n",
       "    }\n",
       "\n",
       "    .dataframe tbody tr th {\n",
       "        vertical-align: top;\n",
       "    }\n",
       "\n",
       "    .dataframe thead th {\n",
       "        text-align: right;\n",
       "    }\n",
       "</style>\n",
       "<table border=\"1\" class=\"dataframe\">\n",
       "  <thead>\n",
       "    <tr style=\"text-align: right;\">\n",
       "      <th></th>\n",
       "      <th>Relative Compactness</th>\n",
       "      <th>Surface Area</th>\n",
       "      <th>Wall Area</th>\n",
       "      <th>Roof Area</th>\n",
       "      <th>Overall Height</th>\n",
       "      <th>Orientation</th>\n",
       "      <th>Glazing Area</th>\n",
       "      <th>Glazing Area Distribution</th>\n",
       "      <th>Heating Load</th>\n",
       "      <th>Cooling Load</th>\n",
       "    </tr>\n",
       "  </thead>\n",
       "  <tbody>\n",
       "    <tr>\n",
       "      <th>0</th>\n",
       "      <td>2.041777</td>\n",
       "      <td>-1.785875</td>\n",
       "      <td>-0.561951</td>\n",
       "      <td>-1.470077</td>\n",
       "      <td>1.0</td>\n",
       "      <td>-1.341641</td>\n",
       "      <td>-1.760447</td>\n",
       "      <td>-1.814575</td>\n",
       "      <td>-0.670115</td>\n",
       "      <td>-0.342666</td>\n",
       "    </tr>\n",
       "    <tr>\n",
       "      <th>1</th>\n",
       "      <td>2.041777</td>\n",
       "      <td>-1.785875</td>\n",
       "      <td>-0.561951</td>\n",
       "      <td>-1.470077</td>\n",
       "      <td>1.0</td>\n",
       "      <td>-0.447214</td>\n",
       "      <td>-1.760447</td>\n",
       "      <td>-1.814575</td>\n",
       "      <td>-0.670115</td>\n",
       "      <td>-0.342666</td>\n",
       "    </tr>\n",
       "    <tr>\n",
       "      <th>2</th>\n",
       "      <td>2.041777</td>\n",
       "      <td>-1.785875</td>\n",
       "      <td>-0.561951</td>\n",
       "      <td>-1.470077</td>\n",
       "      <td>1.0</td>\n",
       "      <td>0.447214</td>\n",
       "      <td>-1.760447</td>\n",
       "      <td>-1.814575</td>\n",
       "      <td>-0.670115</td>\n",
       "      <td>-0.342666</td>\n",
       "    </tr>\n",
       "    <tr>\n",
       "      <th>3</th>\n",
       "      <td>2.041777</td>\n",
       "      <td>-1.785875</td>\n",
       "      <td>-0.561951</td>\n",
       "      <td>-1.470077</td>\n",
       "      <td>1.0</td>\n",
       "      <td>1.341641</td>\n",
       "      <td>-1.760447</td>\n",
       "      <td>-1.814575</td>\n",
       "      <td>-0.670115</td>\n",
       "      <td>-0.342666</td>\n",
       "    </tr>\n",
       "    <tr>\n",
       "      <th>4</th>\n",
       "      <td>1.284979</td>\n",
       "      <td>-1.229239</td>\n",
       "      <td>0.000000</td>\n",
       "      <td>-1.198678</td>\n",
       "      <td>1.0</td>\n",
       "      <td>-1.341641</td>\n",
       "      <td>-1.760447</td>\n",
       "      <td>-1.814575</td>\n",
       "      <td>-0.145503</td>\n",
       "      <td>0.388366</td>\n",
       "    </tr>\n",
       "  </tbody>\n",
       "</table>\n",
       "</div>"
      ],
      "text/plain": [
       "   Relative Compactness  Surface Area  Wall Area  Roof Area  Overall Height  \\\n",
       "0              2.041777     -1.785875  -0.561951  -1.470077             1.0   \n",
       "1              2.041777     -1.785875  -0.561951  -1.470077             1.0   \n",
       "2              2.041777     -1.785875  -0.561951  -1.470077             1.0   \n",
       "3              2.041777     -1.785875  -0.561951  -1.470077             1.0   \n",
       "4              1.284979     -1.229239   0.000000  -1.198678             1.0   \n",
       "\n",
       "   Orientation  Glazing Area  Glazing Area Distribution  Heating Load  \\\n",
       "0    -1.341641     -1.760447                  -1.814575     -0.670115   \n",
       "1    -0.447214     -1.760447                  -1.814575     -0.670115   \n",
       "2     0.447214     -1.760447                  -1.814575     -0.670115   \n",
       "3     1.341641     -1.760447                  -1.814575     -0.670115   \n",
       "4    -1.341641     -1.760447                  -1.814575     -0.145503   \n",
       "\n",
       "   Cooling Load  \n",
       "0     -0.342666  \n",
       "1     -0.342666  \n",
       "2     -0.342666  \n",
       "3     -0.342666  \n",
       "4      0.388366  "
      ]
     },
     "execution_count": 5,
     "metadata": {},
     "output_type": "execute_result"
    }
   ],
   "source": [
    "energy_df_scaled.head()"
   ]
  },
  {
   "cell_type": "code",
   "execution_count": 6,
   "metadata": {},
   "outputs": [
    {
     "data": {
      "text/html": [
       "<div>\n",
       "<style scoped>\n",
       "    .dataframe tbody tr th:only-of-type {\n",
       "        vertical-align: middle;\n",
       "    }\n",
       "\n",
       "    .dataframe tbody tr th {\n",
       "        vertical-align: top;\n",
       "    }\n",
       "\n",
       "    .dataframe thead th {\n",
       "        text-align: right;\n",
       "    }\n",
       "</style>\n",
       "<table border=\"1\" class=\"dataframe\">\n",
       "  <thead>\n",
       "    <tr style=\"text-align: right;\">\n",
       "      <th></th>\n",
       "      <th>Relative Compactness</th>\n",
       "      <th>Surface Area</th>\n",
       "      <th>Wall Area</th>\n",
       "      <th>Roof Area</th>\n",
       "      <th>Overall Height</th>\n",
       "      <th>Orientation</th>\n",
       "      <th>Glazing Area</th>\n",
       "      <th>Glazing Area Distribution</th>\n",
       "      <th>Heating Load</th>\n",
       "      <th>Cooling Load</th>\n",
       "    </tr>\n",
       "  </thead>\n",
       "  <tbody>\n",
       "    <tr>\n",
       "      <th>count</th>\n",
       "      <td>7.680000e+02</td>\n",
       "      <td>7.680000e+02</td>\n",
       "      <td>768.000000</td>\n",
       "      <td>7.680000e+02</td>\n",
       "      <td>768.000000</td>\n",
       "      <td>768.000000</td>\n",
       "      <td>7.680000e+02</td>\n",
       "      <td>768.000000</td>\n",
       "      <td>7.680000e+02</td>\n",
       "      <td>7.680000e+02</td>\n",
       "    </tr>\n",
       "    <tr>\n",
       "      <th>mean</th>\n",
       "      <td>-7.401487e-17</td>\n",
       "      <td>-4.163336e-16</td>\n",
       "      <td>0.000000</td>\n",
       "      <td>2.174187e-16</td>\n",
       "      <td>0.000000</td>\n",
       "      <td>0.000000</td>\n",
       "      <td>1.480297e-16</td>\n",
       "      <td>0.000000</td>\n",
       "      <td>7.401487e-17</td>\n",
       "      <td>-2.035409e-16</td>\n",
       "    </tr>\n",
       "    <tr>\n",
       "      <th>std</th>\n",
       "      <td>1.000652e+00</td>\n",
       "      <td>1.000652e+00</td>\n",
       "      <td>1.000652</td>\n",
       "      <td>1.000652e+00</td>\n",
       "      <td>1.000652</td>\n",
       "      <td>1.000652</td>\n",
       "      <td>1.000652e+00</td>\n",
       "      <td>1.000652</td>\n",
       "      <td>1.000652e+00</td>\n",
       "      <td>1.000652e+00</td>\n",
       "    </tr>\n",
       "    <tr>\n",
       "      <th>min</th>\n",
       "      <td>-1.363812e+00</td>\n",
       "      <td>-1.785875e+00</td>\n",
       "      <td>-1.685854</td>\n",
       "      <td>-1.470077e+00</td>\n",
       "      <td>-1.000000</td>\n",
       "      <td>-1.341641</td>\n",
       "      <td>-1.760447e+00</td>\n",
       "      <td>-1.814575</td>\n",
       "      <td>-1.616203e+00</td>\n",
       "      <td>-1.439739e+00</td>\n",
       "    </tr>\n",
       "    <tr>\n",
       "      <th>25%</th>\n",
       "      <td>-7.725642e-01</td>\n",
       "      <td>-7.421818e-01</td>\n",
       "      <td>-0.561951</td>\n",
       "      <td>-7.915797e-01</td>\n",
       "      <td>-1.000000</td>\n",
       "      <td>-0.670820</td>\n",
       "      <td>-1.009323e+00</td>\n",
       "      <td>-0.685506</td>\n",
       "      <td>-9.237440e-01</td>\n",
       "      <td>-9.432688e-01</td>\n",
       "    </tr>\n",
       "    <tr>\n",
       "      <th>50%</th>\n",
       "      <td>-1.340162e-01</td>\n",
       "      <td>2.319318e-02</td>\n",
       "      <td>0.000000</td>\n",
       "      <td>1.583159e-01</td>\n",
       "      <td>0.000000</td>\n",
       "      <td>0.000000</td>\n",
       "      <td>1.173631e-01</td>\n",
       "      <td>0.120972</td>\n",
       "      <td>-3.329351e-01</td>\n",
       "      <td>-2.637774e-01</td>\n",
       "    </tr>\n",
       "    <tr>\n",
       "      <th>75%</th>\n",
       "      <td>6.227813e-01</td>\n",
       "      <td>7.885681e-01</td>\n",
       "      <td>0.561951</td>\n",
       "      <td>9.725122e-01</td>\n",
       "      <td>1.000000</td>\n",
       "      <td>0.670820</td>\n",
       "      <td>1.244049e+00</td>\n",
       "      <td>0.766154</td>\n",
       "      <td>9.282671e-01</td>\n",
       "      <td>8.987736e-01</td>\n",
       "    </tr>\n",
       "    <tr>\n",
       "      <th>max</th>\n",
       "      <td>2.041777e+00</td>\n",
       "      <td>1.553943e+00</td>\n",
       "      <td>2.247806</td>\n",
       "      <td>9.725122e-01</td>\n",
       "      <td>1.000000</td>\n",
       "      <td>1.341641</td>\n",
       "      <td>1.244049e+00</td>\n",
       "      <td>1.411336</td>\n",
       "      <td>2.062035e+00</td>\n",
       "      <td>2.465759e+00</td>\n",
       "    </tr>\n",
       "  </tbody>\n",
       "</table>\n",
       "</div>"
      ],
      "text/plain": [
       "       Relative Compactness  Surface Area   Wall Area     Roof Area  \\\n",
       "count          7.680000e+02  7.680000e+02  768.000000  7.680000e+02   \n",
       "mean          -7.401487e-17 -4.163336e-16    0.000000  2.174187e-16   \n",
       "std            1.000652e+00  1.000652e+00    1.000652  1.000652e+00   \n",
       "min           -1.363812e+00 -1.785875e+00   -1.685854 -1.470077e+00   \n",
       "25%           -7.725642e-01 -7.421818e-01   -0.561951 -7.915797e-01   \n",
       "50%           -1.340162e-01  2.319318e-02    0.000000  1.583159e-01   \n",
       "75%            6.227813e-01  7.885681e-01    0.561951  9.725122e-01   \n",
       "max            2.041777e+00  1.553943e+00    2.247806  9.725122e-01   \n",
       "\n",
       "       Overall Height  Orientation  Glazing Area  Glazing Area Distribution  \\\n",
       "count      768.000000   768.000000  7.680000e+02                 768.000000   \n",
       "mean         0.000000     0.000000  1.480297e-16                   0.000000   \n",
       "std          1.000652     1.000652  1.000652e+00                   1.000652   \n",
       "min         -1.000000    -1.341641 -1.760447e+00                  -1.814575   \n",
       "25%         -1.000000    -0.670820 -1.009323e+00                  -0.685506   \n",
       "50%          0.000000     0.000000  1.173631e-01                   0.120972   \n",
       "75%          1.000000     0.670820  1.244049e+00                   0.766154   \n",
       "max          1.000000     1.341641  1.244049e+00                   1.411336   \n",
       "\n",
       "       Heating Load  Cooling Load  \n",
       "count  7.680000e+02  7.680000e+02  \n",
       "mean   7.401487e-17 -2.035409e-16  \n",
       "std    1.000652e+00  1.000652e+00  \n",
       "min   -1.616203e+00 -1.439739e+00  \n",
       "25%   -9.237440e-01 -9.432688e-01  \n",
       "50%   -3.329351e-01 -2.637774e-01  \n",
       "75%    9.282671e-01  8.987736e-01  \n",
       "max    2.062035e+00  2.465759e+00  "
      ]
     },
     "execution_count": 6,
     "metadata": {},
     "output_type": "execute_result"
    }
   ],
   "source": [
    "energy_df_scaled.describe()"
   ]
  },
  {
   "cell_type": "code",
   "execution_count": 7,
   "metadata": {},
   "outputs": [
    {
     "data": {
      "text/plain": [
       "['Relative Compactness',\n",
       " 'Surface Area',\n",
       " 'Wall Area',\n",
       " 'Roof Area',\n",
       " 'Overall Height',\n",
       " 'Orientation',\n",
       " 'Glazing Area',\n",
       " 'Glazing Area Distribution']"
      ]
     },
     "execution_count": 7,
     "metadata": {},
     "output_type": "execute_result"
    }
   ],
   "source": [
    "feature_names = energy_df_scaled.columns.to_list()[:-2]\n",
    "feature_names"
   ]
  },
  {
   "cell_type": "code",
   "execution_count": 8,
   "metadata": {},
   "outputs": [
    {
     "data": {
      "text/plain": [
       "(768, 10)"
      ]
     },
     "execution_count": 8,
     "metadata": {},
     "output_type": "execute_result"
    }
   ],
   "source": [
    "energy_df_scaled.shape"
   ]
  },
  {
   "cell_type": "code",
   "execution_count": 9,
   "metadata": {},
   "outputs": [
    {
     "name": "stdout",
     "output_type": "stream",
     "text": [
      "torch.Size([614, 8]) torch.Size([154, 8])\n",
      "torch.Size([614]) torch.Size([614]) torch.Size([154]) torch.Size([154])\n"
     ]
    }
   ],
   "source": [
    "\"\"\"\n",
    "1. Create a tensor from the energy df and separate the features and the target\n",
    "2. Randomly shuffle the data\n",
    "3. Split the data into training and testing sets\n",
    "\"\"\"\n",
    "energy_torch = torch.tensor(energy_df_scaled.to_numpy(dtype=np.float32))\n",
    "all_features = energy_torch[:, :-2]\n",
    "all_targets_heating, all_targets_cooling = energy_torch[:, -2], energy_torch[:, -1]\n",
    "\n",
    "shuffled_indices = torch.randperm(len(all_features))\n",
    "all_features = all_features[shuffled_indices]\n",
    "all_targets_heating, all_targets_cooling = all_targets_heating[shuffled_indices], all_targets_cooling[shuffled_indices]\n",
    "\n",
    "train_ratio = 0.8\n",
    "train_count = int(train_ratio * len(all_features))\n",
    "\n",
    "train_features = all_features[:train_count]\n",
    "train_targets_heating, train_targets_cooling = all_targets_heating[:train_count], all_targets_cooling[:train_count]\n",
    "\n",
    "test_features = all_features[train_count:]\n",
    "test_targets_heating, test_targets_cooling = all_targets_heating[train_count:], all_targets_cooling[train_count:]\n",
    "\n",
    "print(train_features.shape, test_features.shape)\n",
    "print(train_targets_heating.shape, train_targets_cooling.shape, test_targets_heating.shape, test_targets_cooling.shape)"
   ]
  },
  {
   "cell_type": "markdown",
   "metadata": {},
   "source": [
    "# TorchSOM"
   ]
  },
  {
   "cell_type": "code",
   "execution_count": 10,
   "metadata": {},
   "outputs": [],
   "source": [
    "som = SOM(\n",
    "    x=35,\n",
    "    y=20,\n",
    "    sigma=2.5,\n",
    "    learning_rate=0.95,\n",
    "    neighborhood_order=3,\n",
    "    epochs=125,\n",
    "    batch_size=16,\n",
    "    topology=\"hexagonal\",\n",
    "    distance_function=\"euclidean\",\n",
    "    neighborhood_function=\"gaussian\",\n",
    "    num_features=all_features.shape[1],\n",
    "    lr_decay_function=\"asymptotic_decay\",\n",
    "    sigma_decay_function=\"asymptotic_decay\",\n",
    "    initialization_mode=\"pca\",\n",
    "    device=device,\n",
    "    random_seed=random_seed,\n",
    ") "
   ]
  },
  {
   "cell_type": "code",
   "execution_count": 11,
   "metadata": {},
   "outputs": [],
   "source": [
    "som.initialize_weights(\n",
    "    data=train_features,\n",
    "    mode=som.initialization_mode\n",
    ")"
   ]
  },
  {
   "cell_type": "code",
   "execution_count": 12,
   "metadata": {},
   "outputs": [
    {
     "name": "stderr",
     "output_type": "stream",
     "text": [
      "Training SOM: 100%|██████████| 125/125 [01:08<00:00,  1.82epoch/s]\n"
     ]
    }
   ],
   "source": [
    "QE, TE = som.fit(\n",
    "    data=train_features\n",
    ")"
   ]
  },
  {
   "cell_type": "code",
   "execution_count": 13,
   "metadata": {},
   "outputs": [],
   "source": [
    "visualizer = SOMVisualizer(som=som, config=None)\n",
    "save_path = f\"results/energy/{som.topology}\" # Set to None if you want a direct plot"
   ]
  },
  {
   "cell_type": "code",
   "execution_count": 14,
   "metadata": {},
   "outputs": [],
   "source": [
    "visualizer.plot_training_errors(\n",
    "    quantization_errors=QE, \n",
    "    topographic_errors=TE, \n",
    "    save_path=save_path\n",
    ")"
   ]
  },
  {
   "cell_type": "code",
   "execution_count": 15,
   "metadata": {},
   "outputs": [],
   "source": [
    "visualizer.plot_distance_map(save_path=save_path)"
   ]
  },
  {
   "cell_type": "code",
   "execution_count": 16,
   "metadata": {},
   "outputs": [],
   "source": [
    "visualizer.plot_hit_map(\n",
    "    data=train_features,\n",
    "    save_path=save_path\n",
    ")"
   ]
  },
  {
   "cell_type": "code",
   "execution_count": 17,
   "metadata": {},
   "outputs": [],
   "source": [
    "visualizer.plot_component_planes(\n",
    "    component_names=feature_names,\n",
    "    save_path=save_path\n",
    ")"
   ]
  },
  {
   "cell_type": "markdown",
   "metadata": {},
   "source": [
    "### Heating Target"
   ]
  },
  {
   "cell_type": "code",
   "execution_count": 18,
   "metadata": {},
   "outputs": [],
   "source": [
    "heating_path = save_path + \"/heating\""
   ]
  },
  {
   "cell_type": "code",
   "execution_count": 19,
   "metadata": {},
   "outputs": [],
   "source": [
    "visualizer.plot_metric_map(\n",
    "    data=train_features,\n",
    "    target=train_targets_heating, \n",
    "    reduction_parameter=\"mean\",\n",
    "    save_path=heating_path,\n",
    ")"
   ]
  },
  {
   "cell_type": "code",
   "execution_count": 20,
   "metadata": {},
   "outputs": [],
   "source": [
    "visualizer.plot_metric_map(\n",
    "    data=train_features,\n",
    "    target=train_targets_heating,\n",
    "    reduction_parameter=\"std\",\n",
    "    save_path=heating_path,\n",
    ")"
   ]
  },
  {
   "cell_type": "code",
   "execution_count": 21,
   "metadata": {},
   "outputs": [],
   "source": [
    "visualizer.plot_rank_map(\n",
    "    data=train_features,\n",
    "    target=train_targets_heating,\n",
    "    save_path=heating_path\n",
    ")"
   ]
  },
  {
   "cell_type": "code",
   "execution_count": 22,
   "metadata": {},
   "outputs": [],
   "source": [
    "visualizer.plot_score_map(\n",
    "    data=train_features,\n",
    "    target=train_targets_heating,\n",
    "    save_path=heating_path,\n",
    ")"
   ]
  },
  {
   "cell_type": "markdown",
   "metadata": {},
   "source": [
    "### Cooling Target"
   ]
  },
  {
   "cell_type": "code",
   "execution_count": 23,
   "metadata": {},
   "outputs": [],
   "source": [
    "cooling_path = save_path + \"/cooling\""
   ]
  },
  {
   "cell_type": "code",
   "execution_count": 24,
   "metadata": {},
   "outputs": [],
   "source": [
    "visualizer.plot_metric_map(\n",
    "    data=train_features,\n",
    "    target=train_targets_cooling,\n",
    "    reduction_parameter=\"mean\",\n",
    "    save_path=cooling_path,\n",
    ")"
   ]
  },
  {
   "cell_type": "code",
   "execution_count": 25,
   "metadata": {},
   "outputs": [],
   "source": [
    "visualizer.plot_metric_map(\n",
    "    data=train_features,\n",
    "    target=train_targets_cooling,\n",
    "    reduction_parameter=\"std\",\n",
    "    save_path=cooling_path,\n",
    ")"
   ]
  },
  {
   "cell_type": "code",
   "execution_count": 26,
   "metadata": {},
   "outputs": [],
   "source": [
    "visualizer.plot_rank_map(\n",
    "    data=train_features,\n",
    "    target=train_targets_cooling,\n",
    "    save_path=cooling_path\n",
    ")"
   ]
  },
  {
   "cell_type": "code",
   "execution_count": 27,
   "metadata": {},
   "outputs": [],
   "source": [
    "visualizer.plot_score_map(\n",
    "    data=train_features,\n",
    "    target=train_targets_cooling,\n",
    "    save_path=cooling_path,\n",
    ")"
   ]
  },
  {
   "cell_type": "markdown",
   "metadata": {},
   "source": [
    "# Prediction of the Heating Target\n",
    "Here, we do not add the testing samples in the SOM BMUs map.  \n",
    "In forecasting or process control, it is interesting to add overtime the new elements in the SOM and potentially to update/refit it with a certain frequency."
   ]
  },
  {
   "cell_type": "code",
   "execution_count": 28,
   "metadata": {},
   "outputs": [],
   "source": [
    "predictions = []\n",
    "bmus_idx_map = som.build_bmus_data_map(\n",
    "    data=train_features,\n",
    "    return_indices=True,  # False means we want the features of each sample and not the indices\n",
    ")\n",
    "for idx, (test_feature, test_target) in enumerate(zip(test_features, test_targets_heating)):\n",
    "        \n",
    "    collected_features, collected_targets = som.collect_samples(\n",
    "        query_sample=test_feature,\n",
    "        historical_samples=train_features,\n",
    "        historical_outputs=train_targets_heating,\n",
    "        min_buffer_threshold=150, # Collect 425 historical samples to train a model\n",
    "        bmus_idx_map=bmus_idx_map,\n",
    "    )\n",
    "    \n",
    "    X = collected_features.cpu().numpy()\n",
    "    y = collected_targets.cpu().numpy().ravel()\n",
    "    test_feature_np = test_feature.cpu().numpy().reshape(1, -1)  \n",
    "    \n",
    "    reg = MLPRegressor(\n",
    "        hidden_layer_sizes=(8, 16, 16, 8),\n",
    "        max_iter=200,\n",
    "        learning_rate_init=0.008,\n",
    "        activation=\"relu\",\n",
    "        solver=\"adam\",\n",
    "        batch_size='auto', \n",
    "        random_state=random_seed,\n",
    "        shuffle=True,\n",
    "        verbose=False,\n",
    "    ).fit(X, y)\n",
    "    \n",
    "    # plt.plot(reg.loss_curve_)\n",
    "    # plt.xlabel(\"Iteration\")\n",
    "    # plt.ylabel(\"Loss\")\n",
    "    # plt.title(\"MLPRegressor Training Loss Curve\")\n",
    "    # plt.grid(True)\n",
    "    # plt.show()\n",
    "    \n",
    "    reg_prediction = reg.predict(test_feature_np)\n",
    "    predictions.append(reg_prediction[0]) "
   ]
  },
  {
   "cell_type": "code",
   "execution_count": 29,
   "metadata": {},
   "outputs": [
    {
     "name": "stdout",
     "output_type": "stream",
     "text": [
      "MAE: 0.0809\n",
      "MSE: 0.0117\n",
      "RMSE: 0.1083\n",
      "R2: 0.99\n"
     ]
    }
   ],
   "source": [
    "y_pred = np.array(predictions)\n",
    "y_true = test_targets_heating.numpy()     \n",
    "\n",
    "mae = mean_absolute_error(y_true, y_pred) \n",
    "mse = mean_squared_error(y_true, y_pred)\n",
    "rmse = root_mean_squared_error(y_true, y_pred)\n",
    "r2 = r2_score(y_true, y_pred)\n",
    "\n",
    "print(f\"MAE: {mae:.4f}\")\n",
    "print(f\"MSE: {mse:.4f}\")\n",
    "print(f\"RMSE: {rmse:.4f}\")\n",
    "print(f\"R2: {r2:.2f}\")"
   ]
  },
  {
   "cell_type": "code",
   "execution_count": 30,
   "metadata": {},
   "outputs": [
    {
     "data": {
      "image/png": "[encoded data removed]",
      "text/plain": [
       "<Figure size 1000x500 with 1 Axes>"
      ]
     },
     "metadata": {},
     "output_type": "display_data"
    }
   ],
   "source": [
    "min_val = min(min(y_pred), min(y_true))\n",
    "max_val = max(max(y_pred), max(y_true))\n",
    "\n",
    "plt.figure(figsize=(10, 5))\n",
    "plt.scatter(\n",
    "    y_true, \n",
    "    y_pred, \n",
    "    alpha=0.8,\n",
    "    color=\"blue\",\n",
    "    marker=\"o\",\n",
    "    edgecolor=\"black\",\n",
    "    s=50,\n",
    "    label=\"Predictions\",\n",
    ")\n",
    "plt.plot(\n",
    "    [min_val, max_val],\n",
    "    [min_val, max_val],\n",
    "    label=\"Perfect Prediction\",\n",
    "    color=\"red\",\n",
    "    alpha=0.8,\n",
    "    linewidth=2\n",
    ")\n",
    "plt.xlabel(\"Ground Truth Values - Heating\")\n",
    "plt.ylabel(\"Predictions\")\n",
    "plt.show()"
   ]
  },
  {
   "cell_type": "code",
   "execution_count": null,
   "metadata": {},
   "outputs": [],
   "source": []
  }
 ],
 "metadata": {
  "kernelspec": {
   "display_name": ".torchsom_env",
   "language": "python",
   "name": "python3"
  },
  "language_info": {
   "codemirror_mode": {
    "name": "ipython",
    "version": 3
   },
   "file_extension": ".py",
   "mimetype": "text/x-python",
   "name": "python",
   "nbconvert_exporter": "python",
   "pygments_lexer": "ipython3",
   "version": "3.11.5"
  }
 },
 "nbformat": 4,
 "nbformat_minor": 2
}
