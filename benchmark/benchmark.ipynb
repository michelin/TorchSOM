{
 "cells": [
  {
   "cell_type": "markdown",
   "id": "fa437995",
   "metadata": {},
   "source": [
    "# Libraries"
   ]
  },
  {
   "cell_type": "code",
   "execution_count": null,
   "id": "d566b12d",
   "metadata": {},
   "outputs": [],
   "source": [
    "import time\n",
    "import random\n",
    "import numpy as np\n",
    "import pandas as pd\n",
    "import torch\n",
    "import yaml\n",
    "from pathlib import Path\n",
    "\n",
    "from torchsom.core import SOM\n",
    "from torchsom.visualization import SOMVisualizer, VisualizationConfig\n",
    "from minisom import MiniSom"
   ]
  },
  {
   "cell_type": "markdown",
   "id": "b126a7e9",
   "metadata": {},
   "source": [
    "# Settings"
   ]
  },
  {
   "cell_type": "code",
   "execution_count": null,
   "id": "070b728c",
   "metadata": {},
   "outputs": [],
   "source": [
    "random_seed = 42"
   ]
  },
  {
   "cell_type": "code",
   "execution_count": null,
   "id": "aa84a203",
   "metadata": {},
   "outputs": [],
   "source": [
    "# Python & NumPy\n",
    "random.seed(random_seed)\n",
    "np.random.seed(random_seed)\n",
    "\n",
    "# Torch CPU\n",
    "torch.manual_seed(random_seed)\n",
    "\n",
    "# Torch GPU (all devices)\n",
    "if torch.cuda.is_available():\n",
    "    torch.cuda.manual_seed(random_seed)\n",
    "    torch.cuda.manual_seed_all(random_seed)\n",
    "\n",
    "# Ensure deterministic behavior\n",
    "torch.backends.cudnn.deterministic = True\n",
    "torch.backends.cudnn.benchmark = False"
   ]
  },
  {
   "cell_type": "code",
   "execution_count": null,
   "id": "7cadc80e",
   "metadata": {},
   "outputs": [],
   "source": [
    "device_log = \"cuda\" # \"cpu\" or \"cuda\""
   ]
  },
  {
   "cell_type": "code",
   "execution_count": null,
   "id": "4f399760",
   "metadata": {},
   "outputs": [],
   "source": [
    "device = torch.device(device_log)"
   ]
  },
  {
   "cell_type": "code",
   "execution_count": null,
   "id": "ec4c8330",
   "metadata": {},
   "outputs": [],
   "source": [
    "n_iter = 5"
   ]
  },
  {
   "cell_type": "code",
   "execution_count": null,
   "id": "a2fa4a3b",
   "metadata": {},
   "outputs": [],
   "source": [
    "n_samples = 300 # 300 | 5000 | 20000\n",
    "n_features = 4 # 4 | 50 | 300\n",
    "data_path = f\"../data/benchmark/blobs_{n_samples}_{n_features}.csv\""
   ]
  },
  {
   "cell_type": "code",
   "execution_count": null,
   "id": "11395436",
   "metadata": {},
   "outputs": [],
   "source": [
    "blobs_df = pd.read_csv(data_path)"
   ]
  },
  {
   "cell_type": "code",
   "execution_count": null,
   "id": "3c0d7ab1",
   "metadata": {},
   "outputs": [],
   "source": [
    "feature_columns = blobs_df.columns[:-1]  \n",
    "feature_names = feature_columns.to_list()\n",
    "# feature_names"
   ]
  },
  {
   "cell_type": "code",
   "execution_count": null,
   "id": "3cb084e9",
   "metadata": {},
   "outputs": [],
   "source": [
    "blobs_df.shape"
   ]
  },
  {
   "cell_type": "code",
   "execution_count": null,
   "id": "2586983e",
   "metadata": {},
   "outputs": [],
   "source": [
    "\"\"\"\n",
    "1. Create a tensor from the blobs df and separate the features and the target\n",
    "2. Randomly shuffle the data\n",
    "3. Split the data into training and testing sets\n",
    "\"\"\"\n",
    "blobs_torch = torch.tensor(blobs_df.to_numpy(dtype=np.float32), device=device)\n",
    "all_features, all_targets = blobs_torch[:, :-1], blobs_torch[:, -1].long()\n",
    "\n",
    "\n",
    "shuffled_indices = torch.randperm(len(all_features), device=device)\n",
    "all_features, all_targets = all_features[shuffled_indices], all_targets[shuffled_indices]\n",
    "\n",
    "train_ratio = 0.8\n",
    "train_count = int(train_ratio * len(all_features))\n",
    "train_features, train_targets = all_features[:train_count], all_targets[:train_count]\n",
    "test_features, test_targets = all_features[train_count:], all_targets[train_count:]\n",
    "\n",
    "print(train_features.shape, test_features.shape)\n",
    "print(train_targets.shape, test_targets.shape)"
   ]
  },
  {
   "cell_type": "code",
   "execution_count": null,
   "id": "a885423c",
   "metadata": {},
   "outputs": [],
   "source": [
    "# Convert the train and test features and targets to numpy arrays for MiniSom\n",
    "train_features_np = train_features.cpu().numpy().astype(np.float32)\n",
    "train_targets_np = train_targets.cpu().numpy().astype(np.float32)\n",
    "test_features_np = test_features.cpu().numpy().astype(np.float32)\n",
    "test_targets_np = test_targets.cpu().numpy().astype(np.float32)"
   ]
  },
  {
   "cell_type": "markdown",
   "id": "05997124",
   "metadata": {},
   "source": [
    "# Simulation"
   ]
  },
  {
   "cell_type": "code",
   "execution_count": null,
   "id": "5b7e3e4e",
   "metadata": {},
   "outputs": [],
   "source": [
    "x_size = 25\n",
    "y_size = 15\n",
    "sigma = 1.45\n",
    "learning_rate = 0.95\n",
    "epochs = 100\n",
    "topology = \"rectangular\"\n",
    "\n",
    "# ! To ensure a fair comparison with MiniSom training mechanism, we need to use the full data for each epoch\n",
    "batch_size = train_features.shape[0] \n",
    "# batch_size = 16"
   ]
  },
  {
   "cell_type": "code",
   "execution_count": null,
   "id": "96455da6",
   "metadata": {},
   "outputs": [],
   "source": [
    "save_path = f\"results/blob_{n_samples}_{n_features}/{topology}/{device}\" \n",
    "record_file = Path(f\"{save_path}/results.yml\")\n",
    "record_file.parent.mkdir(parents=True, exist_ok=True)"
   ]
  },
  {
   "cell_type": "code",
   "execution_count": null,
   "id": "138aec6a",
   "metadata": {},
   "outputs": [],
   "source": [
    "init_results = {\n",
    "    \"dataset\": f\"blob_{n_samples}_{n_features}\",\n",
    "    \"device\": device_log,\n",
    "    \"n_iter\": n_iter,\n",
    "    \"x_size\": x_size,\n",
    "    \"y_size\": y_size,\n",
    "    \"sigma\": sigma,\n",
    "    \"learning_rate\": learning_rate,\n",
    "    \"epochs\": epochs,\n",
    "    \"batch_size\": batch_size,\n",
    "    \"topology\": topology,\n",
    "}"
   ]
  },
  {
   "cell_type": "code",
   "execution_count": null,
   "id": "c366a818",
   "metadata": {},
   "outputs": [],
   "source": [
    "with record_file.open(\"w\") as f:\n",
    "    yaml.safe_dump(init_results, f, sort_keys=False)"
   ]
  },
  {
   "cell_type": "markdown",
   "id": "01f57416",
   "metadata": {},
   "source": [
    "## torchsom"
   ]
  },
  {
   "cell_type": "code",
   "execution_count": null,
   "id": "9d31032e",
   "metadata": {},
   "outputs": [],
   "source": [
    "torchsom = SOM(\n",
    "    # * Exact same parameters as MiniSom\n",
    "    x=x_size,\n",
    "    y=y_size,\n",
    "    num_features=all_features.shape[1],\n",
    "    sigma=sigma,\n",
    "    learning_rate=learning_rate,\n",
    "    lr_decay_function=\"asymptotic_decay\",\n",
    "    sigma_decay_function=\"asymptotic_decay\",\n",
    "    neighborhood_function=\"gaussian\",\n",
    "    topology=topology,\n",
    "    distance_function=\"euclidean\",\n",
    "    random_seed=random_seed,\n",
    "    epochs=epochs,\n",
    "    initialization_mode=\"pca\",\n",
    "    # * Additional parameters for TorchSOM\n",
    "    batch_size=batch_size, #  Important to ensure one pass over the data per eopch. One epoch = train_features.shape[0] samples\n",
    "    neighborhood_order=3, # Not used for the benchmark (time and learning curves)\n",
    "    device=device, # Important to specify GPU usage\n",
    ") "
   ]
  },
  {
   "cell_type": "code",
   "execution_count": null,
   "id": "715376d7",
   "metadata": {},
   "outputs": [],
   "source": [
    "times_init = []\n",
    "times_fit = []\n",
    "for _ in range(n_iter):\n",
    "    start = time.perf_counter()\n",
    "    torchsom.initialize_weights(data=train_features, mode=torchsom.initialization_mode)\n",
    "    end = time.perf_counter()\n",
    "    times_init.append(end - start)\n",
    "\n",
    "    start = time.perf_counter()\n",
    "    QE, TE = torchsom.fit(data=train_features)\n",
    "    end = time.perf_counter()\n",
    "    times_fit.append(end - start)"
   ]
  },
  {
   "cell_type": "code",
   "execution_count": null,
   "id": "d9719854",
   "metadata": {},
   "outputs": [],
   "source": [
    "total_fit = [init + fit for init, fit in zip(times_init, times_fit)]"
   ]
  },
  {
   "cell_type": "code",
   "execution_count": null,
   "id": "67e2ad57",
   "metadata": {},
   "outputs": [],
   "source": [
    "print(f\"Number of iterations: {n_iter}\")\n",
    "print(f\"Init: mean={np.mean(times_init):.2f}s, std={np.std(times_init):.2f}\")\n",
    "print(f\"Fit:  mean={np.mean(times_fit):.2f}s, std={np.std(times_fit):.2f}\")\n",
    "print(f\"Total: mean={np.mean(total_fit):.2f}s, std={np.std(total_fit):.2f}\")"
   ]
  },
  {
   "cell_type": "code",
   "execution_count": null,
   "id": "977dab3a",
   "metadata": {},
   "outputs": [],
   "source": [
    "full_train_QE = torchsom.quantization_error(\n",
    "    data=train_features\n",
    ")\n",
    "# full_train_QE"
   ]
  },
  {
   "cell_type": "code",
   "execution_count": null,
   "id": "e9698a34",
   "metadata": {},
   "outputs": [],
   "source": [
    "full_train_TE = torchsom.topographic_error(\n",
    "    data=train_features\n",
    ")\n",
    "# full_train_TE"
   ]
  },
  {
   "cell_type": "code",
   "execution_count": null,
   "id": "a592bb9f",
   "metadata": {},
   "outputs": [],
   "source": [
    "full_test_QE = torchsom.quantization_error(\n",
    "    data=test_features\n",
    ")\n",
    "# full_test_QE"
   ]
  },
  {
   "cell_type": "code",
   "execution_count": null,
   "id": "d08d5e66",
   "metadata": {},
   "outputs": [],
   "source": [
    "full_test_TE = torchsom.topographic_error(\n",
    "    data=test_features\n",
    ")\n",
    "# full_test_TE"
   ]
  },
  {
   "cell_type": "code",
   "execution_count": null,
   "id": "e759b3e3",
   "metadata": {},
   "outputs": [],
   "source": [
    "torchsom_results = {\n",
    "    \"torchsom\": {\n",
    "        \"avg_init_time\": f\"{np.mean(times_init):.2f}s\",\n",
    "        \"std_init_time\": f\"{np.std(times_init):.2f}s\",\n",
    "        \"avg_train_time\": f\"{np.mean(times_fit):.2f}s\",\n",
    "        \"std_train_time\": f\"{np.std(times_fit):.2f}s\",\n",
    "        \"avg_total_time\": f\"{np.mean(total_fit):.2f}s\",\n",
    "        \"std_total_time\": f\"{np.std(total_fit):.2f}s\",\n",
    "        \"final_full_train_QE\": f\"{full_train_QE:.2f}\",\n",
    "        \"final_full_train_TE\": f\"{full_train_TE:.2f}\",\n",
    "        \"final_full_test_QE\": f\"{full_test_QE:.2f}\",\n",
    "        \"final_full_test_TE\": f\"{full_test_TE:.2f}\",\n",
    "        \n",
    "    },\n",
    "}"
   ]
  },
  {
   "cell_type": "code",
   "execution_count": null,
   "id": "df726fd4",
   "metadata": {},
   "outputs": [],
   "source": [
    "with record_file.open(\"a\") as f:\n",
    "    yaml.safe_dump(torchsom_results, f, sort_keys=False, explicit_start=True)"
   ]
  },
  {
   "cell_type": "markdown",
   "id": "ced508fa",
   "metadata": {},
   "source": [
    "### Visualization"
   ]
  },
  {
   "cell_type": "code",
   "execution_count": null,
   "id": "2bd7e99f",
   "metadata": {},
   "outputs": [],
   "source": [
    "config = VisualizationConfig(save_format=\"pdf\")\n",
    "visualizer = SOMVisualizer(som=torchsom, config=config)"
   ]
  },
  {
   "cell_type": "code",
   "execution_count": null,
   "id": "dc315bda",
   "metadata": {},
   "outputs": [],
   "source": [
    "visualizer.plot_training_errors(\n",
    "    quantization_errors=QE, \n",
    "    topographic_errors=TE, \n",
    "    save_path=save_path\n",
    ")"
   ]
  },
  {
   "cell_type": "code",
   "execution_count": null,
   "id": "64352367",
   "metadata": {},
   "outputs": [],
   "source": [
    "visualizer.plot_distance_map(save_path=save_path)"
   ]
  },
  {
   "cell_type": "code",
   "execution_count": null,
   "id": "a0d4b8f1",
   "metadata": {},
   "outputs": [],
   "source": [
    "visualizer.plot_hit_map(\n",
    "    data=train_features,\n",
    "    save_path=save_path\n",
    ")"
   ]
  },
  {
   "cell_type": "code",
   "execution_count": null,
   "id": "6e96068d",
   "metadata": {},
   "outputs": [],
   "source": [
    "visualizer.plot_classification_map(\n",
    "    data=train_features,\n",
    "    target=train_targets,\n",
    "    save_path=save_path\n",
    ")"
   ]
  },
  {
   "cell_type": "code",
   "execution_count": null,
   "id": "ff658436",
   "metadata": {},
   "outputs": [],
   "source": [
    "visualizer.plot_component_planes(\n",
    "    component_names=feature_names,\n",
    "    save_path=save_path\n",
    ")"
   ]
  },
  {
   "cell_type": "markdown",
   "id": "67a85b6b",
   "metadata": {},
   "source": [
    "## minisom"
   ]
  },
  {
   "cell_type": "code",
   "execution_count": null,
   "id": "3d1dc32e",
   "metadata": {},
   "outputs": [],
   "source": [
    "som = MiniSom(\n",
    "    x=x_size,\n",
    "    y=y_size,\n",
    "    input_len=all_features.shape[1],\n",
    "    sigma=sigma,\n",
    "    learning_rate=learning_rate,\n",
    "    decay_function=\"asymptotic_decay\",\n",
    "    sigma_decay_function=\"asymptotic_decay\",\n",
    "    neighborhood_function=\"gaussian\",\n",
    "    topology=\"rectangular\",\n",
    "    activation_distance=\"euclidean\",\n",
    "    random_seed=random_seed,\n",
    ")"
   ]
  },
  {
   "cell_type": "code",
   "execution_count": null,
   "id": "49880c42",
   "metadata": {},
   "outputs": [],
   "source": [
    "times_init = []\n",
    "times_fit = []\n",
    "for _ in range(n_iter):\n",
    "    start = time.perf_counter()\n",
    "    # som.random_weights_init(data=train_features_np)\n",
    "    som.pca_weights_init(data=train_features_np)\n",
    "    end = time.perf_counter()\n",
    "    times_init.append(end - start)\n",
    "\n",
    "    start = time.perf_counter()\n",
    "    som.train(\n",
    "        data=train_features_np,\n",
    "        num_iteration=epochs,\n",
    "        random_order=True,\n",
    "        verbose=True,\n",
    "        use_epochs=True, # ! Important: If true: num_iterations x train_features.shape[0] in total samples , if False: num_iterations samples\n",
    "    )\n",
    "    end = time.perf_counter()\n",
    "    times_fit.append(end - start)"
   ]
  },
  {
   "cell_type": "code",
   "execution_count": null,
   "id": "7463bede",
   "metadata": {},
   "outputs": [],
   "source": [
    "total_fit = [init + fit for init, fit in zip(times_init, times_fit)]"
   ]
  },
  {
   "cell_type": "code",
   "execution_count": null,
   "id": "8de1e3b8",
   "metadata": {},
   "outputs": [],
   "source": [
    "print(f\"Number of iterations: {n_iter}\")\n",
    "print(f\"Init: mean={np.mean(times_init):.2f}s, std={np.std(times_init):.2f}\")\n",
    "print(f\"Fit:  mean={np.mean(times_fit):.2f}s, std={np.std(times_fit):.2f}\")\n",
    "print(f\"Total: mean={np.mean(total_fit):.2f}s, std={np.std(total_fit):.2f}\")"
   ]
  },
  {
   "cell_type": "code",
   "execution_count": null,
   "id": "3312802f",
   "metadata": {},
   "outputs": [],
   "source": [
    "full_train_QE = som.quantization_error(\n",
    "    data=train_features_np\n",
    ")\n",
    "# full_train_QE"
   ]
  },
  {
   "cell_type": "code",
   "execution_count": null,
   "id": "5010c774",
   "metadata": {},
   "outputs": [],
   "source": [
    "full_train_TE = som.topographic_error(\n",
    "    data=train_features_np\n",
    ")\n",
    "# full_train_TE"
   ]
  },
  {
   "cell_type": "code",
   "execution_count": null,
   "id": "0c194e98",
   "metadata": {},
   "outputs": [],
   "source": [
    "full_test_QE = som.quantization_error(\n",
    "    data=test_features_np\n",
    ")\n",
    "# full_test_QE"
   ]
  },
  {
   "cell_type": "code",
   "execution_count": null,
   "id": "3c1f6c7f",
   "metadata": {},
   "outputs": [],
   "source": [
    "full_test_TE = som.topographic_error(\n",
    "    data=test_features_np\n",
    ")\n",
    "# full_test_TE"
   ]
  },
  {
   "cell_type": "code",
   "execution_count": null,
   "id": "00667413",
   "metadata": {},
   "outputs": [],
   "source": [
    "minisom_results = {\n",
    "    \"minisom\": {\n",
    "        \"avg_init_time\": f\"{np.mean(times_init):.2f}s\",\n",
    "        \"std_init_time\": f\"{np.std(times_init):.2f}s\",\n",
    "        \"avg_train_time\": f\"{np.mean(times_fit):.2f}s\",\n",
    "        \"std_train_time\": f\"{np.std(times_fit):.2f}s\",\n",
    "        \"avg_total_time\": f\"{np.mean(total_fit):.2f}s\",\n",
    "        \"std_total_time\": f\"{np.std(total_fit):.2f}s\",\n",
    "        \"final_full_train_QE\": f\"{full_train_QE:.2f}\",\n",
    "        \"final_full_train_TE\": f\"{full_train_TE:.2f}\",\n",
    "        \"final_full_test_QE\": f\"{full_test_QE:.2f}\",\n",
    "        \"final_full_test_TE\": f\"{full_test_TE:.2f}\",\n",
    "    },\n",
    "}"
   ]
  },
  {
   "cell_type": "code",
   "execution_count": null,
   "id": "ba4f1b2f",
   "metadata": {},
   "outputs": [],
   "source": [
    "with record_file.open(\"a\") as f:\n",
    "    yaml.safe_dump(minisom_results, f, sort_keys=False, explicit_start=True)"
   ]
  },
  {
   "cell_type": "code",
   "execution_count": null,
   "id": "b1a4158e",
   "metadata": {},
   "outputs": [],
   "source": []
  }
 ],
 "metadata": {
  "kernelspec": {
   "display_name": ".torchsom_env",
   "language": "python",
   "name": "python3"
  },
  "language_info": {
   "codemirror_mode": {
    "name": "ipython",
    "version": 3
   },
   "file_extension": ".py",
   "mimetype": "text/x-python",
   "name": "python",
   "nbconvert_exporter": "python",
   "pygments_lexer": "ipython3",
   "version": "3.11.5"
  }
 },
 "nbformat": 4,
 "nbformat_minor": 5
}
